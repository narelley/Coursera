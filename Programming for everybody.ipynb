{
 "cells": [
  {
   "cell_type": "markdown",
   "metadata": {},
   "source": [
    "### Assignments - Programming for everybody"
   ]
  },
  {
   "cell_type": "markdown",
   "metadata": {},
   "source": [
    "#### Week 3 and 4 - Variable and Expression"
   ]
  },
  {
   "cell_type": "code",
   "execution_count": 7,
   "metadata": {},
   "outputs": [
    {
     "name": "stdout",
     "output_type": "stream",
     "text": [
      "Enter Hours:5\n",
      "Enter Rates:2\n",
      "Pay: 10.0\n"
     ]
    }
   ],
   "source": [
    "hrs = input(\"Enter Hours:\")\n",
    "rate = input (\"Enter Rates:\")\n",
    "pay = float(hrs)*float(rate) \n",
    "#pay = hrs*rate\n",
    "print ('Pay:' , pay)"
   ]
  },
  {
   "cell_type": "code",
   "execution_count": 8,
   "metadata": {},
   "outputs": [
    {
     "name": "stdout",
     "output_type": "stream",
     "text": [
      "Small\n",
      "All done\n"
     ]
    }
   ],
   "source": [
    "x = 0\n",
    "if x < 2 :\n",
    "    print('Small')\n",
    "elif x < 10 :\n",
    "    print('Medium')\n",
    "else :\n",
    "    print('LARGE')\n",
    "print('All done')"
   ]
  },
  {
   "cell_type": "code",
   "execution_count": 10,
   "metadata": {},
   "outputs": [
    {
     "name": "stdout",
     "output_type": "stream",
     "text": [
      "-1\n"
     ]
    }
   ],
   "source": [
    "astr = 'Hello Bob'\n",
    "istr = 0\n",
    "try:\n",
    "    istr = int(astr)\n",
    "except:\n",
    "    istr = -1\n",
    "print (istr)"
   ]
  },
  {
   "cell_type": "code",
   "execution_count": 14,
   "metadata": {},
   "outputs": [
    {
     "name": "stdout",
     "output_type": "stream",
     "text": [
      "Enter Hours:45\n",
      "Enter Rates:10.5\n",
      "Pay: 708.75\n"
     ]
    }
   ],
   "source": [
    "hrs = input(\"Enter Hours:\")\n",
    "h = float(hrs)\n",
    "rate = input(\"Enter Rates:\")\n",
    "r = float(rate)\n",
    "\n",
    "if h > 40:\n",
    "\tpay = 40*r + (h-40)*r*1.5\n",
    "else:\n",
    "    pay = h*r\n",
    "    \n",
    "print ('Pay:', Pay)\n",
    "\n"
   ]
  },
  {
   "cell_type": "markdown",
   "metadata": {},
   "source": [
    "#### Week 5 - Conditonal Code"
   ]
  },
  {
   "cell_type": "code",
   "execution_count": 20,
   "metadata": {},
   "outputs": [
    {
     "name": "stdout",
     "output_type": "stream",
     "text": [
      "Enter Score: 1\n",
      "A\n"
     ]
    }
   ],
   "source": [
    "score = input(\"Enter Score: \")\n",
    "score = float(score)\n",
    "try:\n",
    "    score in range(0,1) \n",
    "except:\n",
    "    print ('Out of range') \n",
    "\n",
    "if score >= 0.9:\n",
    "    print ('A')\n",
    "elif score>= 0.8:\n",
    "    print ('B')\n",
    "elif score>= 0.7:\n",
    "    print ('C')\n",
    "elif score>= 0.6:\n",
    "    print ('D')\n",
    "elif score< 0.6:\n",
    "    print ('F')\n",
    "    \n",
    "else:\n",
    "    print ('Out of range')\n",
    "    exit()"
   ]
  },
  {
   "cell_type": "code",
   "execution_count": 5,
   "metadata": {},
   "outputs": [
    {
     "name": "stdout",
     "output_type": "stream",
     "text": [
      "score value:9\n",
      "out of range\n"
     ]
    },
    {
     "ename": "ValueError",
     "evalue": "",
     "output_type": "error",
     "traceback": [
      "\u001b[1;31m---------------------------------------------------------------------------\u001b[0m",
      "\u001b[1;31mValueError\u001b[0m                                Traceback (most recent call last)",
      "\u001b[1;32m<ipython-input-5-8d47bd4560fd>\u001b[0m in \u001b[0;36m<module>\u001b[1;34m\u001b[0m\n\u001b[0;32m      3\u001b[0m \u001b[1;32mtry\u001b[0m\u001b[1;33m:\u001b[0m\u001b[1;33m\u001b[0m\u001b[1;33m\u001b[0m\u001b[0m\n\u001b[0;32m      4\u001b[0m     \u001b[1;32mif\u001b[0m \u001b[1;32mnot\u001b[0m \u001b[1;36m0.0\u001b[0m \u001b[1;33m<=\u001b[0m \u001b[0mscore\u001b[0m \u001b[1;33m<=\u001b[0m \u001b[1;36m1.0\u001b[0m\u001b[1;33m:\u001b[0m\u001b[1;33m\u001b[0m\u001b[1;33m\u001b[0m\u001b[0m\n\u001b[1;32m----> 5\u001b[1;33m         \u001b[1;32mraise\u001b[0m \u001b[0mValueError\u001b[0m\u001b[1;33m(\u001b[0m\u001b[1;33m)\u001b[0m\u001b[1;33m\u001b[0m\u001b[1;33m\u001b[0m\u001b[0m\n\u001b[0m\u001b[0;32m      6\u001b[0m \u001b[1;32mexcept\u001b[0m \u001b[0mValueError\u001b[0m\u001b[1;33m:\u001b[0m\u001b[1;33m\u001b[0m\u001b[1;33m\u001b[0m\u001b[0m\n\u001b[0;32m      7\u001b[0m     \u001b[0mprint\u001b[0m\u001b[1;33m(\u001b[0m\u001b[1;34m'out of range'\u001b[0m\u001b[1;33m)\u001b[0m\u001b[1;33m\u001b[0m\u001b[1;33m\u001b[0m\u001b[0m\n",
      "\u001b[1;31mValueError\u001b[0m: "
     ]
    }
   ],
   "source": [
    "score = input('Enter Score:')\n",
    "score = float(score)\n",
    "try:\n",
    "    if not 0.0 <= score <= 1.0:\n",
    "        raise ValueError()\n",
    "except ValueError:\n",
    "    print('out of range')\n",
    "    #sys.exit(1)\n",
    "    raise #to raise an exception/ reraise a current exception\n",
    "\n",
    "if score >= 0.9:\n",
    "    print ('A')\n",
    "elif score>= 0.8:\n",
    "    print ('B')\n",
    "elif score>= 0.7:\n",
    "    print ('C')\n",
    "elif score>= 0.6:\n",
    "    print ('D')\n",
    "elif score< 0.6:\n",
    "    print ('F')\n"
   ]
  },
  {
   "cell_type": "code",
   "execution_count": 6,
   "metadata": {},
   "outputs": [
    {
     "name": "stdout",
     "output_type": "stream",
     "text": [
      "Enter Score from 0.0 to 1.0:9\n",
      "Error, please enter numeric input from 0.0 to 1.0\n"
     ]
    }
   ],
   "source": [
    "score = input(\"Enter Score from 0.0 to 1.0:\")\n",
    "try:\n",
    "    score = float(score)\n",
    "    if not 0.0 <= score <= 1.0:\n",
    "        raise ValueError()\n",
    "except ValueError:\n",
    "    print(\"Error, please enter numeric input from 0.0 to 1.0\")\n",
    "else:\n",
    "    for x, grade in [(0.9, 'A'), (0.8, 'B'), (0.7, 'C'), (0.6, 'D')]:\n",
    "        if score >= x:\n",
    "            break\n",
    "    else:\n",
    "        grade = 'F'\n",
    "    print(grade)"
   ]
  },
  {
   "cell_type": "markdown",
   "metadata": {},
   "source": [
    "#### Week 6 - functions"
   ]
  },
  {
   "cell_type": "code",
   "execution_count": 19,
   "metadata": {},
   "outputs": [
    {
     "name": "stdout",
     "output_type": "stream",
     "text": [
      "Enter Hours:45\n",
      "Rate per hours:10.50\n",
      "Pay 498.75\n"
     ]
    }
   ],
   "source": [
    "def computepay(h,r):\n",
    "    if h <= 40:\n",
    "        p = h*r\n",
    "        return p\n",
    "    else:\n",
    "        p = 40*r + (h-40)*1.5*r\n",
    "        return p\n",
    "    \n",
    "\n",
    "hrs = float(input(\"Enter Hours:\"))\n",
    "rate = float(input(\"Rate per hours:\"))\n",
    "p = computepay(hrs,rate)\n",
    "print(\"Pay\",p)"
   ]
  },
  {
   "cell_type": "markdown",
   "metadata": {},
   "source": [
    "#### Week 7 - loops and iterations "
   ]
  },
  {
   "cell_type": "code",
   "execution_count": null,
   "metadata": {},
   "outputs": [],
   "source": []
  }
 ],
 "metadata": {
  "kernelspec": {
   "display_name": "Python 3",
   "language": "python",
   "name": "python3"
  },
  "language_info": {
   "codemirror_mode": {
    "name": "ipython",
    "version": 3
   },
   "file_extension": ".py",
   "mimetype": "text/x-python",
   "name": "python",
   "nbconvert_exporter": "python",
   "pygments_lexer": "ipython3",
   "version": "3.7.4"
  }
 },
 "nbformat": 4,
 "nbformat_minor": 4
}
